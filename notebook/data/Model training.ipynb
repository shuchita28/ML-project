{
 "cells": [
  {
   "attachments": {},
   "cell_type": "markdown",
   "metadata": {},
   "source": [
    "## **Modeling**<a class=\"anchor\" id=\"modeling\"></a>"
   ]
  },
  {
   "cell_type": "code",
   "execution_count": 30,
   "metadata": {},
   "outputs": [],
   "source": [
    "import pandas as pd\n",
    "from matplotlib import pyplot as plt\n",
    "import numpy as np\n",
    "import seaborn as sns\n",
    "\n",
    "from sklearn.model_selection import train_test_split\n",
    "from sklearn import tree\n",
    "from sklearn.ensemble import RandomForestClassifier\n",
    "from sklearn.naive_bayes import GaussianNB\n",
    "from sklearn.neighbors import KNeighborsClassifier\n",
    "from sklearn.linear_model import LogisticRegression\n",
    "from sklearn import svm\n",
    "from sklearn.pipeline import Pipeline\n",
    "from sklearn.utils.extmath import density\n",
    "from sklearn import metrics\n",
    "from sklearn.model_selection import GridSearchCV\n",
    "\n",
    "from time import time"
   ]
  },
  {
   "cell_type": "code",
   "execution_count": 9,
   "metadata": {},
   "outputs": [],
   "source": [
    "# load the data\n",
    "demographic = pd.read_csv('/Users/shuchitamishra/Desktop/Jobs/Study /ML-project/notebook/data/demographic.csv', index_col=False)\n",
    "labs = pd.read_csv('/Users/shuchitamishra/Desktop/Jobs/Study /ML-project/notebook/data/labs.csv', index_col=False)\n",
    "questionnaire = pd.read_csv('/Users/shuchitamishra/Desktop/Jobs/Study /ML-project/notebook/data/questionnaire.csv', index_col=False)\n",
    "\n",
    "# get only gender and age columns\n",
    "demographic = demographic[['SEQN', 'RIDAGEYR', 'RIAGENDR']]\n",
    "# change the names of columns\n",
    "demographic.rename(columns={'SEQN': 'ID', 'RIDAGEYR': 'Age', 'RIAGENDR': 'Gender'}, inplace=True)\n",
    "demographic = demographic[demographic['Age'] > 9]\n",
    "# categorize the data\n",
    "demographic['Age'] = pd.cut(demographic['Age'], bins=[20, 30, 40, 50, 60, 70, 80], labels=[1, 2, 3, 4, 5, 6], include_lowest=True)\n",
    "\n",
    "# Get the columns of id and B12\n",
    "labs = labs[['SEQN', 'LBDB12']]\n",
    "# Change the names of columns\n",
    "labs.rename(columns={'SEQN': 'ID', 'LBDB12': 'B12'}, inplace=True)\n",
    "# Drop the records with null value in column B12\n",
    "labs.dropna(axis = 0, inplace = True)\n",
    "# Categorize the data\n",
    "labs['B12'] = pd.cut(labs['B12'], bins=[0, 300, 950, 27000], labels=[1, 2, 3])\n",
    "\n",
    "\n",
    "# Get the columns\n",
    "questionnaire = questionnaire[['SEQN', 'DPQ010', 'DPQ020', 'DPQ030', 'DPQ040', 'DPQ050', 'DPQ060', 'DPQ070', 'DPQ080', 'DPQ090', 'DPQ100', 'SLQ050', 'SLQ060', 'IND235']]\n",
    "# Change the name of id column\n",
    "questionnaire.rename(columns={'SEQN': 'ID'}, inplace=True)\n",
    "\n",
    "data = labs.merge(demographic, on=\"ID\").merge(questionnaire, on=\"ID\")\n",
    "data.drop('ID', axis=1, inplace=True)\n",
    "data.drop('DPQ100', axis=1, inplace=True)\n",
    "data.dropna(subset=['DPQ010', 'DPQ020', 'DPQ030', 'DPQ040', 'DPQ050', 'DPQ060', 'DPQ070', 'DPQ080', 'DPQ090'], axis=0, inplace=True)\n",
    "data['IND235'].replace({77: 7, 99: 7, None: 7}, inplace=True)\n",
    "data[['DPQ010', 'DPQ020', 'DPQ030', 'DPQ040', 'DPQ050', 'DPQ060', 'DPQ070', 'DPQ080', 'DPQ090', 'SLQ050', 'SLQ060']].replace({7: 0, 9: 0})\n",
    "data['B12'] = data['B12'].astype(int)\n",
    "data['Age'] = data['Age'].astype(int)\n",
    "data.dropna(subset = ['IND235'], inplace = True)\n"
   ]
  },
  {
   "attachments": {},
   "cell_type": "markdown",
   "metadata": {},
   "source": [
    "### For Unbalanced Data"
   ]
  },
  {
   "cell_type": "code",
   "execution_count": 10,
   "metadata": {},
   "outputs": [],
   "source": [
    "# split the data into features and target\n",
    "X = data.iloc[:, 1:15]\n",
    "y = data.iloc[:, 0]\n",
    "\n",
    "# split the data into test and train\n",
    "X_train, X_test, y_train, y_test = train_test_split(X, y, test_size=0.3, random_state=42, shuffle=True) # 70% training and 30% test"
   ]
  },
  {
   "attachments": {},
   "cell_type": "markdown",
   "metadata": {},
   "source": [
    "Benchmark classifier is a function that makes us able to compare the different algorithms."
   ]
  },
  {
   "cell_type": "code",
   "execution_count": 11,
   "metadata": {},
   "outputs": [],
   "source": [
    "\n",
    "# Benchmark classifier\n",
    "def benchmark(clf, X_train, y_train, X_test, y_test):\n",
    "    print('_' * 80)\n",
    "    print(\"Training: \")\n",
    "    print(clf)\n",
    "    t0 = time()\n",
    "    clf.fit(X_train, y_train)\n",
    "    train_time = time() - t0\n",
    "    print(\"train time: %0.3fs\" % train_time)\n",
    "\n",
    "    t0 = time()\n",
    "    pred = clf.predict(X_test)\n",
    "    test_time = time() - t0\n",
    "    print(\"test time:  %0.3fs\" % test_time)\n",
    "\n",
    "    score = metrics.accuracy_score(y_test, pred)\n",
    "    print(\"accuracy:   %0.3f\" % score)\n",
    "\n",
    "    if hasattr(clf, 'coef_'):\n",
    "        print(\"dimensionality: %d\" % clf.coef_.shape[1])\n",
    "        print(\"density: %f\" % density(clf.coef_))\n",
    "\n",
    "    print(\"classification report:\")\n",
    "    print(metrics.classification_report(y_test, pred))\n",
    "\n",
    "    print(\"confusion matrix:\")\n",
    "    print(metrics.confusion_matrix(y_test, pred))\n",
    "\n",
    "    clf_descr = str(clf).split('(')[0]\n",
    "    return clf_descr, score, train_time, test_time"
   ]
  },
  {
   "cell_type": "code",
   "execution_count": 13,
   "metadata": {},
   "outputs": [
    {
     "name": "stdout",
     "output_type": "stream",
     "text": [
      "================================================================================\n",
      "Decision Tree\n",
      "________________________________________________________________________________\n",
      "Training: \n",
      "DecisionTreeClassifier()\n",
      "train time: 0.027s\n",
      "test time:  0.002s\n",
      "accuracy:   0.651\n",
      "classification report:\n",
      "              precision    recall  f1-score   support\n",
      "\n",
      "           1       0.11      0.14      0.12       143\n",
      "           2       0.80      0.80      0.80      1108\n",
      "           3       0.13      0.09      0.11       160\n",
      "\n",
      "    accuracy                           0.65      1411\n",
      "   macro avg       0.34      0.34      0.34      1411\n",
      "weighted avg       0.65      0.65      0.65      1411\n",
      "\n",
      "confusion matrix:\n",
      "[[ 20 106  17]\n",
      " [143 883  82]\n",
      " [ 27 118  15]]\n",
      "================================================================================\n",
      "Random Forest\n",
      "________________________________________________________________________________\n",
      "Training: \n",
      "RandomForestClassifier()\n",
      "train time: 0.211s\n",
      "test time:  0.023s\n",
      "accuracy:   0.759\n",
      "classification report:\n",
      "              precision    recall  f1-score   support\n",
      "\n",
      "           1       0.09      0.02      0.03       143\n",
      "           2       0.79      0.96      0.87      1108\n",
      "           3       0.17      0.04      0.07       160\n",
      "\n",
      "    accuracy                           0.76      1411\n",
      "   macro avg       0.35      0.34      0.32      1411\n",
      "weighted avg       0.65      0.76      0.69      1411\n",
      "\n",
      "confusion matrix:\n",
      "[[   3  133    7]\n",
      " [  21 1061   26]\n",
      " [   8  145    7]]\n",
      "================================================================================\n",
      "Gauissian Naive Bayes\n",
      "________________________________________________________________________________\n",
      "Training: \n",
      "GaussianNB()\n",
      "train time: 0.003s\n",
      "test time:  0.001s\n",
      "accuracy:   0.714\n",
      "classification report:\n",
      "              precision    recall  f1-score   support\n",
      "\n",
      "           1       0.00      0.00      0.00       143\n",
      "           2       0.79      0.90      0.84      1108\n",
      "           3       0.10      0.09      0.10       160\n",
      "\n",
      "    accuracy                           0.71      1411\n",
      "   macro avg       0.30      0.33      0.31      1411\n",
      "weighted avg       0.63      0.71      0.67      1411\n",
      "\n",
      "confusion matrix:\n",
      "[[  0 123  20]\n",
      " [  0 993 115]\n",
      " [  0 145  15]]\n",
      "================================================================================\n",
      "kNN\n",
      "________________________________________________________________________________\n",
      "Training: \n",
      "KNeighborsClassifier(n_neighbors=10)\n",
      "train time: 0.007s\n",
      "test time:  0.056s\n",
      "accuracy:   0.780\n",
      "classification report:\n",
      "              precision    recall  f1-score   support\n",
      "\n",
      "           1       0.08      0.01      0.01       143\n",
      "           2       0.79      0.99      0.88      1108\n",
      "           3       0.50      0.01      0.01       160\n",
      "\n",
      "    accuracy                           0.78      1411\n",
      "   macro avg       0.46      0.34      0.30      1411\n",
      "weighted avg       0.68      0.78      0.69      1411\n",
      "\n",
      "confusion matrix:\n",
      "[[   1  142    0]\n",
      " [   8 1099    1]\n",
      " [   3  156    1]]\n",
      "================================================================================\n",
      "Logistic Regression\n",
      "________________________________________________________________________________\n",
      "Training: \n",
      "LogisticRegression()\n",
      "train time: 0.077s\n",
      "test time:  0.001s\n",
      "accuracy:   0.785\n",
      "dimensionality: 14\n",
      "density: 1.000000\n",
      "classification report:\n",
      "              precision    recall  f1-score   support\n",
      "\n",
      "           1       0.00      0.00      0.00       143\n",
      "           2       0.79      1.00      0.88      1108\n",
      "           3       0.00      0.00      0.00       160\n",
      "\n",
      "    accuracy                           0.79      1411\n",
      "   macro avg       0.26      0.33      0.29      1411\n",
      "weighted avg       0.62      0.79      0.69      1411\n",
      "\n",
      "confusion matrix:\n",
      "[[   0  143    0]\n",
      " [   0 1108    0]\n",
      " [   0  160    0]]\n",
      "================================================================================\n",
      "Support Vector Machines\n",
      "________________________________________________________________________________\n",
      "Training: \n",
      "SVC()\n"
     ]
    },
    {
     "name": "stderr",
     "output_type": "stream",
     "text": [
      "/Users/shuchitamishra/opt/anaconda3/lib/python3.9/site-packages/sklearn/metrics/_classification.py:1327: UndefinedMetricWarning: Precision and F-score are ill-defined and being set to 0.0 in labels with no predicted samples. Use `zero_division` parameter to control this behavior.\n",
      "  _warn_prf(average, modifier, msg_start, len(result))\n",
      "/Users/shuchitamishra/opt/anaconda3/lib/python3.9/site-packages/sklearn/metrics/_classification.py:1327: UndefinedMetricWarning: Precision and F-score are ill-defined and being set to 0.0 in labels with no predicted samples. Use `zero_division` parameter to control this behavior.\n",
      "  _warn_prf(average, modifier, msg_start, len(result))\n",
      "/Users/shuchitamishra/opt/anaconda3/lib/python3.9/site-packages/sklearn/metrics/_classification.py:1327: UndefinedMetricWarning: Precision and F-score are ill-defined and being set to 0.0 in labels with no predicted samples. Use `zero_division` parameter to control this behavior.\n",
      "  _warn_prf(average, modifier, msg_start, len(result))\n",
      "/Users/shuchitamishra/opt/anaconda3/lib/python3.9/site-packages/sklearn/linear_model/_logistic.py:444: ConvergenceWarning: lbfgs failed to converge (status=1):\n",
      "STOP: TOTAL NO. of ITERATIONS REACHED LIMIT.\n",
      "\n",
      "Increase the number of iterations (max_iter) or scale the data as shown in:\n",
      "    https://scikit-learn.org/stable/modules/preprocessing.html\n",
      "Please also refer to the documentation for alternative solver options:\n",
      "    https://scikit-learn.org/stable/modules/linear_model.html#logistic-regression\n",
      "  n_iter_i = _check_optimize_result(\n",
      "/Users/shuchitamishra/opt/anaconda3/lib/python3.9/site-packages/sklearn/metrics/_classification.py:1327: UndefinedMetricWarning: Precision and F-score are ill-defined and being set to 0.0 in labels with no predicted samples. Use `zero_division` parameter to control this behavior.\n",
      "  _warn_prf(average, modifier, msg_start, len(result))\n",
      "/Users/shuchitamishra/opt/anaconda3/lib/python3.9/site-packages/sklearn/metrics/_classification.py:1327: UndefinedMetricWarning: Precision and F-score are ill-defined and being set to 0.0 in labels with no predicted samples. Use `zero_division` parameter to control this behavior.\n",
      "  _warn_prf(average, modifier, msg_start, len(result))\n",
      "/Users/shuchitamishra/opt/anaconda3/lib/python3.9/site-packages/sklearn/metrics/_classification.py:1327: UndefinedMetricWarning: Precision and F-score are ill-defined and being set to 0.0 in labels with no predicted samples. Use `zero_division` parameter to control this behavior.\n",
      "  _warn_prf(average, modifier, msg_start, len(result))\n"
     ]
    },
    {
     "name": "stdout",
     "output_type": "stream",
     "text": [
      "train time: 0.663s\n",
      "test time:  0.282s\n",
      "accuracy:   0.785\n",
      "classification report:\n",
      "              precision    recall  f1-score   support\n",
      "\n",
      "           1       0.00      0.00      0.00       143\n",
      "           2       0.79      1.00      0.88      1108\n",
      "           3       0.00      0.00      0.00       160\n",
      "\n",
      "    accuracy                           0.79      1411\n",
      "   macro avg       0.26      0.33      0.29      1411\n",
      "weighted avg       0.62      0.79      0.69      1411\n",
      "\n",
      "confusion matrix:\n",
      "[[   0  143    0]\n",
      " [   0 1108    0]\n",
      " [   0  160    0]]\n"
     ]
    },
    {
     "name": "stderr",
     "output_type": "stream",
     "text": [
      "/Users/shuchitamishra/opt/anaconda3/lib/python3.9/site-packages/sklearn/metrics/_classification.py:1327: UndefinedMetricWarning: Precision and F-score are ill-defined and being set to 0.0 in labels with no predicted samples. Use `zero_division` parameter to control this behavior.\n",
      "  _warn_prf(average, modifier, msg_start, len(result))\n",
      "/Users/shuchitamishra/opt/anaconda3/lib/python3.9/site-packages/sklearn/metrics/_classification.py:1327: UndefinedMetricWarning: Precision and F-score are ill-defined and being set to 0.0 in labels with no predicted samples. Use `zero_division` parameter to control this behavior.\n",
      "  _warn_prf(average, modifier, msg_start, len(result))\n",
      "/Users/shuchitamishra/opt/anaconda3/lib/python3.9/site-packages/sklearn/metrics/_classification.py:1327: UndefinedMetricWarning: Precision and F-score are ill-defined and being set to 0.0 in labels with no predicted samples. Use `zero_division` parameter to control this behavior.\n",
      "  _warn_prf(average, modifier, msg_start, len(result))\n"
     ]
    }
   ],
   "source": [
    "# Different algorithms\n",
    "results = []\n",
    "for clf, name in (\n",
    "        (tree.DecisionTreeClassifier(), \"Decision Tree\"),\n",
    "        (RandomForestClassifier(n_estimators=100), \"Random Forest\"),\n",
    "        (GaussianNB(), \"Gauissian Naive Bayes\"),\n",
    "        (KNeighborsClassifier(n_neighbors=10), \"kNN\"),\n",
    "        (LogisticRegression(), \"Logistic Regression\"),\n",
    "        (svm.SVC(), \"Support Vector Machines\"),\n",
    "    ):\n",
    "    print('=' * 80)\n",
    "    print(name)\n",
    "    results.append(benchmark(clf, X_train, y_train, X_test, y_test))"
   ]
  },
  {
   "cell_type": "code",
   "execution_count": 15,
   "metadata": {},
   "outputs": [
    {
     "data": {
      "image/png": "[encoded data removed]",
      "text/plain": [
       "<Figure size 864x576 with 1 Axes>"
      ]
     },
     "metadata": {
      "needs_background": "light"
     },
     "output_type": "display_data"
    }
   ],
   "source": [
    "# plots\n",
    "\n",
    "indices = np.arange(len(results))\n",
    "\n",
    "results = [[x[i] for x in results] for i in range(4)]\n",
    "\n",
    "clf_names, score, training_time, test_time = results\n",
    "training_time = np.array(training_time) / np.max(training_time)\n",
    "test_time = np.array(test_time) / np.max(test_time)\n",
    "\n",
    "plt.figure(figsize=(12, 8))\n",
    "plt.title(\"Score\")\n",
    "plt.barh(indices, score, .2, label=\"score\", color='#1A1A1A')\n",
    "plt.barh(indices + .3, training_time, .2, label=\"training time\",\n",
    "         color='#1874CD')\n",
    "plt.barh(indices + .6, test_time, .2, label=\"test time\", color='#8B475D')\n",
    "plt.yticks(())\n",
    "plt.legend(loc='best')\n",
    "plt.subplots_adjust(left=.25)\n",
    "plt.subplots_adjust(top=.95)\n",
    "plt.subplots_adjust(bottom=.05)\n",
    "\n",
    "for i, c in zip(indices, clf_names):\n",
    "    plt.text(-.3, i, c)\n",
    "\n",
    "plt.show()"
   ]
  },
  {
   "attachments": {},
   "cell_type": "markdown",
   "metadata": {},
   "source": [
    "When comparing the accuracy of the models, two algorithms with the highest accuracy are Logistic Regression and Support Vector Classifier, but when we consider 'precision', 'recall' and 'f1score' values, it is not very successful models, only 'Normal' value B12 prediction we can see what model did. Therefore, when we compare these two models, we will use the Gaussian Naive Bayes algorithm in our project, whose accuracy rate is not very different, but also predicts other categories."
   ]
  },
  {
   "attachments": {},
   "cell_type": "markdown",
   "metadata": {},
   "source": [
    "Since 'hyperparameters' cannot be made in the Gaussian Naive Bayes algorithm, we cannot use Grid Search. Instead, we try the Grid Search algorithm to see if we can get better results in Random Forest, the best model after Naive Bayes."
   ]
  },
  {
   "cell_type": "code",
   "execution_count": 16,
   "metadata": {},
   "outputs": [
    {
     "name": "stdout",
     "output_type": "stream",
     "text": [
      "Fitting 3 folds for each of 500 candidates, totalling 1500 fits\n"
     ]
    }
   ],
   "source": [
    "forest = RandomForestClassifier(random_state=1, n_estimators = 10, min_samples_split = 1)\n",
    "\n",
    "n_estimators = [100, 300, 500, 800, 1200]\n",
    "max_depth = [5, 8, 15, 25, 30]\n",
    "min_samples_split = [2, 5, 10, 15, 100]\n",
    "min_samples_leaf = [1, 2, 5, 10] \n",
    "\n",
    "hyperF = dict(n_estimators = n_estimators, max_depth = max_depth,  \n",
    "              min_samples_split = min_samples_split, \n",
    "             min_samples_leaf = min_samples_leaf)\n",
    "\n",
    "gridF = GridSearchCV(forest, hyperF, cv = 3, verbose = 1, \n",
    "                      n_jobs = -1)\n",
    "bestF = gridF.fit(X_train, y_train)"
   ]
  },
  {
   "cell_type": "code",
   "execution_count": 17,
   "metadata": {},
   "outputs": [
    {
     "data": {
      "text/plain": [
       "{'max_depth': 5,\n",
       " 'min_samples_leaf': 1,\n",
       " 'min_samples_split': 2,\n",
       " 'n_estimators': 100}"
      ]
     },
     "execution_count": 17,
     "metadata": {},
     "output_type": "execute_result"
    }
   ],
   "source": [
    "# best parameters on model\n",
    "gridF.best_params_"
   ]
  },
  {
   "cell_type": "code",
   "execution_count": 18,
   "metadata": {},
   "outputs": [
    {
     "data": {
      "text/plain": [
       "0.7852586817859674"
      ]
     },
     "execution_count": 18,
     "metadata": {},
     "output_type": "execute_result"
    }
   ],
   "source": [
    "gridF.refit\n",
    "preds = gridF.predict(X_test)\n",
    "probs = gridF.predict_proba(X_test)\n",
    "\n",
    "# accuracy score\n",
    "np.mean(preds == y_test)"
   ]
  },
  {
   "cell_type": "code",
   "execution_count": 19,
   "metadata": {},
   "outputs": [
    {
     "name": "stdout",
     "output_type": "stream",
     "text": [
      "              precision    recall  f1-score   support\n",
      "\n",
      "         Low       0.00      0.00      0.00       143\n",
      "      Normal       0.79      1.00      0.88      1108\n",
      "        High       0.00      0.00      0.00       160\n",
      "\n",
      "    accuracy                           0.79      1411\n",
      "   macro avg       0.26      0.33      0.29      1411\n",
      "weighted avg       0.62      0.79      0.69      1411\n",
      "\n"
     ]
    },
    {
     "name": "stderr",
     "output_type": "stream",
     "text": [
      "/Users/shuchitamishra/opt/anaconda3/lib/python3.9/site-packages/sklearn/metrics/_classification.py:1327: UndefinedMetricWarning: Precision and F-score are ill-defined and being set to 0.0 in labels with no predicted samples. Use `zero_division` parameter to control this behavior.\n",
      "  _warn_prf(average, modifier, msg_start, len(result))\n",
      "/Users/shuchitamishra/opt/anaconda3/lib/python3.9/site-packages/sklearn/metrics/_classification.py:1327: UndefinedMetricWarning: Precision and F-score are ill-defined and being set to 0.0 in labels with no predicted samples. Use `zero_division` parameter to control this behavior.\n",
      "  _warn_prf(average, modifier, msg_start, len(result))\n",
      "/Users/shuchitamishra/opt/anaconda3/lib/python3.9/site-packages/sklearn/metrics/_classification.py:1327: UndefinedMetricWarning: Precision and F-score are ill-defined and being set to 0.0 in labels with no predicted samples. Use `zero_division` parameter to control this behavior.\n",
      "  _warn_prf(average, modifier, msg_start, len(result))\n"
     ]
    }
   ],
   "source": [
    "print(metrics.classification_report(y_test, preds, target_names=['Low', 'Normal', 'High']))"
   ]
  },
  {
   "attachments": {},
   "cell_type": "markdown",
   "metadata": {},
   "source": [
    "As a result of Grid Search, we see that the accuracy rate increased by 3%, but caused a negative effect on the classification report. We see that it cannot predict low and high B12 categories (1 and 3). Therefore, we continue with the Naive Bayes algorithm."
   ]
  },
  {
   "attachments": {},
   "cell_type": "markdown",
   "metadata": {},
   "source": [
    "### With Balanced Data"
   ]
  },
  {
   "attachments": {},
   "cell_type": "markdown",
   "metadata": {},
   "source": [
    "We have seen above that there are many more participants with \"Normal\" B12 in our data. Therefore, we will make the categories more balanced and reconstruct our model. There are about 530 data in other categories. We select 1000 data from the normal category. The reason for this is that we do not want to lose too much data."
   ]
  },
  {
   "cell_type": "code",
   "execution_count": 20,
   "metadata": {},
   "outputs": [
    {
     "data": {
      "text/plain": [
       "2.0    1000\n",
       "3.0     517\n",
       "1.0     515\n",
       "Name: B12, dtype: int64"
      ]
     },
     "execution_count": 20,
     "metadata": {},
     "output_type": "execute_result"
    }
   ],
   "source": [
    "balanced_data = data.copy()\n",
    "\n",
    "balanced_data[balanced_data['B12'] == 2] = balanced_data[balanced_data['B12'] == 2].sample(1000, random_state=42)\n",
    "balanced_data = balanced_data[balanced_data['B12'].notnull()]\n",
    "balanced_data['B12'].value_counts()"
   ]
  },
  {
   "cell_type": "code",
   "execution_count": 21,
   "metadata": {},
   "outputs": [],
   "source": [
    "# split the data into features and target\n",
    "X_balanced = balanced_data.iloc[:, 1:15]\n",
    "y_balanced = balanced_data.iloc[:, 0]\n",
    "\n",
    "# split the data into test and train\n",
    "X_train_balanced, X_test_balanced, y_train_balanced, y_test_balanced = train_test_split(X_balanced, y_balanced, test_size=0.3, random_state=42, shuffle=True) # 70% training and 30% test"
   ]
  },
  {
   "cell_type": "code",
   "execution_count": 22,
   "metadata": {},
   "outputs": [
    {
     "name": "stdout",
     "output_type": "stream",
     "text": [
      "================================================================================\n",
      "Decision Tree\n",
      "________________________________________________________________________________\n",
      "Training: \n",
      "DecisionTreeClassifier()\n",
      "train time: 0.028s\n",
      "test time:  0.002s\n",
      "accuracy:   0.375\n",
      "classification report:\n",
      "              precision    recall  f1-score   support\n",
      "\n",
      "         1.0       0.23      0.27      0.25       154\n",
      "         2.0       0.52      0.53      0.52       300\n",
      "         3.0       0.23      0.19      0.21       156\n",
      "\n",
      "    accuracy                           0.38       610\n",
      "   macro avg       0.33      0.33      0.33       610\n",
      "weighted avg       0.37      0.38      0.37       610\n",
      "\n",
      "confusion matrix:\n",
      "[[ 42  75  37]\n",
      " [ 82 158  60]\n",
      " [ 55  72  29]]\n",
      "================================================================================\n",
      "Random Forest\n",
      "________________________________________________________________________________\n",
      "Training: \n",
      "RandomForestClassifier()\n",
      "train time: 0.173s\n",
      "test time:  0.015s\n",
      "accuracy:   0.403\n",
      "classification report:\n",
      "              precision    recall  f1-score   support\n",
      "\n",
      "         1.0       0.25      0.18      0.21       154\n",
      "         2.0       0.49      0.63      0.55       300\n",
      "         3.0       0.25      0.20      0.22       156\n",
      "\n",
      "    accuracy                           0.40       610\n",
      "   macro avg       0.33      0.33      0.33       610\n",
      "weighted avg       0.37      0.40      0.38       610\n",
      "\n",
      "confusion matrix:\n",
      "[[ 27  93  34]\n",
      " [ 53 188  59]\n",
      " [ 26  99  31]]\n",
      "================================================================================\n",
      "Gauissian Naive Bayes\n",
      "________________________________________________________________________________\n",
      "Training: \n",
      "GaussianNB()\n",
      "train time: 0.003s\n",
      "test time:  0.001s\n",
      "accuracy:   0.441\n",
      "classification report:\n",
      "              precision    recall  f1-score   support\n",
      "\n",
      "         1.0       0.17      0.06      0.09       154\n",
      "         2.0       0.50      0.77      0.61       300\n",
      "         3.0       0.30      0.18      0.22       156\n",
      "\n",
      "    accuracy                           0.44       610\n",
      "   macro avg       0.32      0.34      0.31       610\n",
      "weighted avg       0.37      0.44      0.38       610\n",
      "\n",
      "confusion matrix:\n",
      "[[  9 117  28]\n",
      " [ 31 232  37]\n",
      " [ 13 115  28]]\n",
      "================================================================================\n",
      "kNN\n",
      "________________________________________________________________________________\n",
      "Training: \n",
      "KNeighborsClassifier(n_neighbors=10)\n",
      "train time: 0.007s\n",
      "test time:  0.020s\n",
      "accuracy:   0.462\n",
      "classification report:\n",
      "              precision    recall  f1-score   support\n",
      "\n",
      "         1.0       0.28      0.18      0.22       154\n",
      "         2.0       0.52      0.78      0.62       300\n",
      "         3.0       0.33      0.14      0.20       156\n",
      "\n",
      "    accuracy                           0.46       610\n",
      "   macro avg       0.38      0.36      0.35       610\n",
      "weighted avg       0.41      0.46      0.41       610\n",
      "\n",
      "confusion matrix:\n",
      "[[ 27 106  21]\n",
      " [ 44 233  23]\n",
      " [ 24 110  22]]\n",
      "================================================================================\n",
      "Logistic Regression\n",
      "________________________________________________________________________________\n",
      "Training: \n",
      "LogisticRegression()\n",
      "train time: 0.051s\n",
      "test time:  0.001s\n",
      "accuracy:   0.502\n",
      "dimensionality: 14\n",
      "density: 1.000000\n",
      "classification report:\n",
      "              precision    recall  f1-score   support\n",
      "\n",
      "         1.0       0.25      0.01      0.01       154\n",
      "         2.0       0.52      0.90      0.66       300\n",
      "         3.0       0.40      0.23      0.29       156\n",
      "\n",
      "    accuracy                           0.50       610\n",
      "   macro avg       0.39      0.38      0.32       610\n",
      "weighted avg       0.42      0.50      0.40       610\n",
      "\n",
      "confusion matrix:\n",
      "[[  1 128  25]\n",
      " [  3 269  28]\n",
      " [  0 120  36]]\n",
      "================================================================================\n",
      "Support Vector Machines\n",
      "________________________________________________________________________________\n",
      "Training: \n",
      "SVC()\n"
     ]
    },
    {
     "name": "stderr",
     "output_type": "stream",
     "text": [
      "/Users/shuchitamishra/opt/anaconda3/lib/python3.9/site-packages/sklearn/linear_model/_logistic.py:444: ConvergenceWarning: lbfgs failed to converge (status=1):\n",
      "STOP: TOTAL NO. of ITERATIONS REACHED LIMIT.\n",
      "\n",
      "Increase the number of iterations (max_iter) or scale the data as shown in:\n",
      "    https://scikit-learn.org/stable/modules/preprocessing.html\n",
      "Please also refer to the documentation for alternative solver options:\n",
      "    https://scikit-learn.org/stable/modules/linear_model.html#logistic-regression\n",
      "  n_iter_i = _check_optimize_result(\n"
     ]
    },
    {
     "name": "stdout",
     "output_type": "stream",
     "text": [
      "train time: 0.169s\n",
      "test time:  0.089s\n",
      "accuracy:   0.492\n",
      "classification report:\n",
      "              precision    recall  f1-score   support\n",
      "\n",
      "         1.0       0.00      0.00      0.00       154\n",
      "         2.0       0.49      1.00      0.66       300\n",
      "         3.0       0.00      0.00      0.00       156\n",
      "\n",
      "    accuracy                           0.49       610\n",
      "   macro avg       0.16      0.33      0.22       610\n",
      "weighted avg       0.24      0.49      0.32       610\n",
      "\n",
      "confusion matrix:\n",
      "[[  0 153   1]\n",
      " [  0 300   0]\n",
      " [  0 156   0]]\n"
     ]
    },
    {
     "name": "stderr",
     "output_type": "stream",
     "text": [
      "/Users/shuchitamishra/opt/anaconda3/lib/python3.9/site-packages/sklearn/metrics/_classification.py:1327: UndefinedMetricWarning: Precision and F-score are ill-defined and being set to 0.0 in labels with no predicted samples. Use `zero_division` parameter to control this behavior.\n",
      "  _warn_prf(average, modifier, msg_start, len(result))\n",
      "/Users/shuchitamishra/opt/anaconda3/lib/python3.9/site-packages/sklearn/metrics/_classification.py:1327: UndefinedMetricWarning: Precision and F-score are ill-defined and being set to 0.0 in labels with no predicted samples. Use `zero_division` parameter to control this behavior.\n",
      "  _warn_prf(average, modifier, msg_start, len(result))\n",
      "/Users/shuchitamishra/opt/anaconda3/lib/python3.9/site-packages/sklearn/metrics/_classification.py:1327: UndefinedMetricWarning: Precision and F-score are ill-defined and being set to 0.0 in labels with no predicted samples. Use `zero_division` parameter to control this behavior.\n",
      "  _warn_prf(average, modifier, msg_start, len(result))\n"
     ]
    }
   ],
   "source": [
    "results_balanced = []\n",
    "for clf, name in (\n",
    "        (tree.DecisionTreeClassifier(), \"Decision Tree\"),\n",
    "        (RandomForestClassifier(n_estimators=100), \"Random Forest\"),\n",
    "        (GaussianNB(), \"Gauissian Naive Bayes\"),\n",
    "        (KNeighborsClassifier(n_neighbors=10), \"kNN\"),\n",
    "        (LogisticRegression(), \"Logistic Regression\"),\n",
    "        (svm.SVC(), \"Support Vector Machines\"),\n",
    "    ):\n",
    "    print('=' * 80)\n",
    "    print(name)\n",
    "    results_balanced.append(benchmark(clf, X_train_balanced, y_train_balanced, X_test_balanced, y_test_balanced))"
   ]
  },
  {
   "cell_type": "code",
   "execution_count": 23,
   "metadata": {},
   "outputs": [
    {
     "data": {
      "image/png": "[encoded data removed]",
      "text/plain": [
       "<Figure size 864x576 with 1 Axes>"
      ]
     },
     "metadata": {
      "needs_background": "light"
     },
     "output_type": "display_data"
    }
   ],
   "source": [
    "# make plots\n",
    "\n",
    "indices = np.arange(len(results_balanced))\n",
    "\n",
    "results_balanced = [[x[i] for x in results_balanced] for i in range(4)]\n",
    "\n",
    "clf_names, score, training_time, test_time = results_balanced\n",
    "training_time = np.array(training_time) / np.max(training_time)\n",
    "test_time = np.array(test_time) / np.max(test_time)\n",
    "\n",
    "plt.figure(figsize=(12, 8))\n",
    "plt.title(\"Score\")\n",
    "plt.barh(indices, score, .2, label=\"score\", color='#1A1A1A')\n",
    "plt.barh(indices + .3, training_time, .2, label=\"training time\",\n",
    "         color='#1874CD')\n",
    "plt.barh(indices + .6, test_time, .2, label=\"test time\", color='#8B475D')\n",
    "plt.yticks(())\n",
    "plt.legend(loc='best')\n",
    "plt.subplots_adjust(left=.25)\n",
    "plt.subplots_adjust(top=.95)\n",
    "plt.subplots_adjust(bottom=.05)\n",
    "\n",
    "for i, c in zip(indices, clf_names):\n",
    "    plt.text(-.3, i, c)\n",
    "\n",
    "plt.show()"
   ]
  },
  {
   "attachments": {},
   "cell_type": "markdown",
   "metadata": {},
   "source": [
    "Accuracy rate is lower than unbalanced data. Again, considering the accuracy rate, f1score, recall and precision values, we can see that the Gaussian Naive Bayes algorithm works better."
   ]
  },
  {
   "cell_type": "code",
   "execution_count": 24,
   "metadata": {},
   "outputs": [
    {
     "name": "stdout",
     "output_type": "stream",
     "text": [
      "Fitting 3 folds for each of 500 candidates, totalling 1500 fits\n"
     ]
    }
   ],
   "source": [
    "gridF_balanced = GridSearchCV(forest, hyperF, cv = 3, verbose = 1, \n",
    "                      n_jobs = -1)\n",
    "bestF_balanced = gridF_balanced.fit(X_train_balanced, y_train_balanced)"
   ]
  },
  {
   "cell_type": "code",
   "execution_count": 25,
   "metadata": {},
   "outputs": [
    {
     "data": {
      "text/plain": [
       "{'max_depth': 5,\n",
       " 'min_samples_leaf': 2,\n",
       " 'min_samples_split': 15,\n",
       " 'n_estimators': 100}"
      ]
     },
     "execution_count": 25,
     "metadata": {},
     "output_type": "execute_result"
    }
   ],
   "source": [
    "gridF_balanced.best_params_"
   ]
  },
  {
   "cell_type": "code",
   "execution_count": 26,
   "metadata": {},
   "outputs": [
    {
     "data": {
      "text/plain": [
       "0.49508196721311476"
      ]
     },
     "execution_count": 26,
     "metadata": {},
     "output_type": "execute_result"
    }
   ],
   "source": [
    "gridF_balanced.refit\n",
    "preds = gridF_balanced.predict(X_test_balanced)\n",
    "probs = gridF_balanced.predict_proba(X_test_balanced)\n",
    "\n",
    "# accuracy score\n",
    "np.mean(preds == y_test_balanced)"
   ]
  },
  {
   "cell_type": "code",
   "execution_count": 27,
   "metadata": {},
   "outputs": [
    {
     "name": "stdout",
     "output_type": "stream",
     "text": [
      "              precision    recall  f1-score   support\n",
      "\n",
      "         Low       0.00      0.00      0.00       154\n",
      "      Normal       0.50      0.97      0.66       300\n",
      "        High       0.42      0.06      0.11       156\n",
      "\n",
      "    accuracy                           0.50       610\n",
      "   macro avg       0.31      0.35      0.26       610\n",
      "weighted avg       0.35      0.50      0.35       610\n",
      "\n"
     ]
    }
   ],
   "source": [
    "print(metrics.classification_report(y_test_balanced, preds, target_names=['Low', 'Normal', 'High']))"
   ]
  },
  {
   "attachments": {},
   "cell_type": "markdown",
   "metadata": {},
   "source": [
    "As with the unbalanced data set, our accuracy rate increased by about 6% but had a negative impact on our classification report."
   ]
  },
  {
   "attachments": {},
   "cell_type": "markdown",
   "metadata": {},
   "source": [
    "## **Evaluation**<a class=\"anchor\" id=\"evaluation\"></a>"
   ]
  },
  {
   "cell_type": "code",
   "execution_count": 28,
   "metadata": {},
   "outputs": [
    {
     "name": "stdout",
     "output_type": "stream",
     "text": [
      "Accuracy score is 0.7143869596031184\n",
      "              precision    recall  f1-score   support\n",
      "\n",
      "         Low       0.00      0.00      0.00       143\n",
      "      Normal       0.79      0.90      0.84      1108\n",
      "        High       0.10      0.09      0.10       160\n",
      "\n",
      "    accuracy                           0.71      1411\n",
      "   macro avg       0.30      0.33      0.31      1411\n",
      "weighted avg       0.63      0.71      0.67      1411\n",
      "\n"
     ]
    },
    {
     "name": "stderr",
     "output_type": "stream",
     "text": [
      "/Users/shuchitamishra/opt/anaconda3/lib/python3.9/site-packages/sklearn/metrics/_classification.py:1327: UndefinedMetricWarning: Precision and F-score are ill-defined and being set to 0.0 in labels with no predicted samples. Use `zero_division` parameter to control this behavior.\n",
      "  _warn_prf(average, modifier, msg_start, len(result))\n",
      "/Users/shuchitamishra/opt/anaconda3/lib/python3.9/site-packages/sklearn/metrics/_classification.py:1327: UndefinedMetricWarning: Precision and F-score are ill-defined and being set to 0.0 in labels with no predicted samples. Use `zero_division` parameter to control this behavior.\n",
      "  _warn_prf(average, modifier, msg_start, len(result))\n",
      "/Users/shuchitamishra/opt/anaconda3/lib/python3.9/site-packages/sklearn/metrics/_classification.py:1327: UndefinedMetricWarning: Precision and F-score are ill-defined and being set to 0.0 in labels with no predicted samples. Use `zero_division` parameter to control this behavior.\n",
      "  _warn_prf(average, modifier, msg_start, len(result))\n"
     ]
    }
   ],
   "source": [
    "model = GaussianNB()\n",
    "model.fit(X_train, y_train)\n",
    "pred = model.predict(X_test)\n",
    "\n",
    "print(\"Accuracy score is {}\".format(metrics.accuracy_score(y_test, pred)))\n",
    "print(metrics.classification_report(y_test, pred, target_names=['Low', 'Normal', 'High']))"
   ]
  },
  {
   "attachments": {},
   "cell_type": "markdown",
   "metadata": {},
   "source": [
    "Recall is ability of a classification model to identify all relevant instances.\n",
    "We can see that recall is only good for normal B12 values. Model is not very successful for low and high.\n",
    "\n",
    "Precision is ability of a classification model to return only relevant instances.\n",
    "Our model is so successful at normal values but not very successful at low and high values.\n"
   ]
  },
  {
   "cell_type": "code",
   "execution_count": 31,
   "metadata": {},
   "outputs": [
    {
     "data": {
      "image/png": "[encoded data removed]",
      "text/plain": [
       "<Figure size 432x288 with 2 Axes>"
      ]
     },
     "metadata": {
      "needs_background": "light"
     },
     "output_type": "display_data"
    }
   ],
   "source": [
    "rslt = metrics.confusion_matrix(y_test, pred)\n",
    "sns.heatmap(pd.DataFrame(rslt, index=['Low Predicted', 'Normal Predicted', 'High Predicted'], columns=['Actual Low', 'Actual Normal', 'Actual High']), annot=True, fmt='d', cmap='icefire')\n",
    "plt.title('Unbalanced Data Confision Matrix')\n",
    "plt.show()"
   ]
  },
  {
   "attachments": {},
   "cell_type": "markdown",
   "metadata": {},
   "source": [
    "Confision matrix shows that, model tends to predict normal values more. The reason is data is unbalanced and normal values are much more than others. We can see that, model predicts 80 values as normal but actually low or high.\n"
   ]
  },
  {
   "cell_type": "code",
   "execution_count": 32,
   "metadata": {},
   "outputs": [
    {
     "name": "stdout",
     "output_type": "stream",
     "text": [
      "Accuracy score for balanced data is 0.44098360655737706\n",
      "              precision    recall  f1-score   support\n",
      "\n",
      "         Low       0.17      0.06      0.09       154\n",
      "      Normal       0.50      0.77      0.61       300\n",
      "        High       0.30      0.18      0.22       156\n",
      "\n",
      "    accuracy                           0.44       610\n",
      "   macro avg       0.32      0.34      0.31       610\n",
      "weighted avg       0.37      0.44      0.38       610\n",
      "\n"
     ]
    }
   ],
   "source": [
    "model.fit(X_train_balanced, y_train_balanced)\n",
    "pred_balanced = model.predict(X_test_balanced)\n",
    "\n",
    "print(\"Accuracy score for balanced data is {}\".format(metrics.accuracy_score(y_test_balanced, pred_balanced)))\n",
    "print(metrics.classification_report(y_test_balanced, pred_balanced, target_names=['Low', 'Normal', 'High']))"
   ]
  },
  {
   "attachments": {},
   "cell_type": "markdown",
   "metadata": {},
   "source": [
    "Recall is ability of a classification model to identify all relevant instances.\n",
    "Recall of balanced data looks better than recall of unbalanced data. High values are now having a good percentage of recall, normal is still good. Low could be better.\n",
    "\n",
    "Precision is ability of a classification model to return only relevant instances.\n",
    "Precision of balanced data is much better than precision of unbalanced data. All categories have now acceptable precisions.\n"
   ]
  },
  {
   "cell_type": "code",
   "execution_count": 33,
   "metadata": {},
   "outputs": [
    {
     "data": {
      "image/png": "[encoded data removed]",
      "text/plain": [
       "<Figure size 432x288 with 2 Axes>"
      ]
     },
     "metadata": {
      "needs_background": "light"
     },
     "output_type": "display_data"
    }
   ],
   "source": [
    "rslt_balanced = metrics.confusion_matrix(y_test_balanced, pred_balanced)\n",
    "sns.heatmap(pd.DataFrame(rslt_balanced, index=['Low Predicted', 'Normal Predicted', 'High Predicted'], columns=['Actual Low', 'Actual Normal', 'Actual High']), annot=True, fmt='d', cmap='icefire')\n",
    "plt.title('Balanced Data Confision Matrix')\n",
    "plt.show()"
   ]
  },
  {
   "attachments": {},
   "cell_type": "markdown",
   "metadata": {},
   "source": [
    "Now the result with balanced data shows that model not tend to predict normal values more. It predicts all values but because of accuracy is bad, it predicts more wrongly.\n",
    "\n",
    "---\n"
   ]
  },
  {
   "attachments": {},
   "cell_type": "markdown",
   "metadata": {},
   "source": [
    "When we compare the two results, we can see that the accuracy rate is better for the unbalanced data set, but when we look at the classification report, we can see that the balanced data set is better."
   ]
  },
  {
   "attachments": {},
   "cell_type": "markdown",
   "metadata": {},
   "source": [
    "## **References**<a class=\"anchor\" id=\"references\"></a>"
   ]
  },
  {
   "attachments": {},
   "cell_type": "markdown",
   "metadata": {},
   "source": [
    "\n",
    "\n",
    "*   https://github.com/Jean-njoroge/Breast-cancer-risk-prediction\n",
    "*   https://dizziness-and-balance.com/disorders/central/b12.html\n"
   ]
  },
  {
   "cell_type": "markdown",
   "metadata": {},
   "source": []
  }
 ],
 "metadata": {
  "kernelspec": {
   "display_name": "base",
   "language": "python",
   "name": "python3"
  },
  "language_info": {
   "codemirror_mode": {
    "name": "ipython",
    "version": 3
   },
   "file_extension": ".py",
   "mimetype": "text/x-python",
   "name": "python",
   "nbconvert_exporter": "python",
   "pygments_lexer": "ipython3",
   "version": "3.9.7"
  },
  "orig_nbformat": 4
 },
 "nbformat": 4,
 "nbformat_minor": 2
}
